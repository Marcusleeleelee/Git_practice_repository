{
  "nbformat": 4,
  "nbformat_minor": 0,
  "metadata": {
    "colab": {
      "provenance": [],
      "authorship_tag": "ABX9TyP44UHow4QTVoxXwLEvNqgY",
      "include_colab_link": true
    },
    "kernelspec": {
      "name": "python3",
      "display_name": "Python 3"
    },
    "language_info": {
      "name": "python"
    }
  },
  "cells": [
    {
      "cell_type": "markdown",
      "metadata": {
        "id": "view-in-github",
        "colab_type": "text"
      },
      "source": [
        "<a href=\"https://colab.research.google.com/github/Marcusleeleelee/Git_practice_repository/blob/main/Temp.ipynb\" target=\"_parent\"><img src=\"https://colab.research.google.com/assets/colab-badge.svg\" alt=\"Open In Colab\"/></a>"
      ]
    },
    {
      "cell_type": "code",
      "source": [
        "#@title Task 0: Prepare all the utility functions and packages for task 1."
      ],
      "metadata": {
        "id": "PK8kcOEEU_Hw"
      },
      "execution_count": 48,
      "outputs": []
    },
    {
      "cell_type": "code",
      "execution_count": 3,
      "metadata": {
        "id": "2VyAogJmkPjk"
      },
      "outputs": [],
      "source": [
        "#@title Step 1: Import all necessary libraries\n",
        "\n",
        "# General python library\n",
        "import os\n",
        "import cv2\n",
        "import numpy as np\n",
        "from PIL import Image\n",
        "from matplotlib import pyplot as plt\n",
        "import matplotlib.animation as animation\n",
        "\n",
        "# Torch library\n",
        "import torch\n",
        "from torch.utils.data import Dataset\n",
        "from torch.utils.data import TensorDataset\n",
        "from torch.utils.data import DataLoader\n",
        "from torch.utils.data import random_split\n",
        "from torch import nn\n",
        "from torchvision import datasets\n",
        "from torchvision.transforms import ToTensor"
      ]
    },
    {
      "cell_type": "code",
      "source": [
        "#@title Step 2: Define utility functions\n",
        "\n",
        "# def load_image(filename):\n",
        "#   im_pil = Image.open(os.path.join(srcpath, filename))\n",
        "#   im = np.array(im_pil).astype(np.float32) / 255\n",
        "#   return im\n",
        "\n",
        "def train(dataloader, model, loss_fn, optimizer):\n",
        "    size = len(dataloader.dataset)\n",
        "    model.train()\n",
        "    for batch, (X, y) in enumerate(dataloader):\n",
        "        X, y = X.to(device), y.to(device)\n",
        "\n",
        "        # Compute prediction error\n",
        "        pred = model(X)\n",
        "        loss = loss_fn(pred, y)\n",
        "\n",
        "        # Backpropagation\n",
        "        loss.backward()\n",
        "        optimizer.step()\n",
        "        optimizer.zero_grad()\n",
        "\n",
        "        if batch % 100 == 0:\n",
        "            loss, current = loss.item(), (batch + 1) * len(X)\n",
        "            print(f\"loss: {loss:>7f}  [{current:>5d}/{size:>5d}]\")\n",
        "\n",
        "def error_performance(dataloader, model, loss_fn):\n",
        "    size = len(dataloader.dataset)\n",
        "    num_batches = len(dataloader)\n",
        "    model.eval()\n",
        "    test_loss, correct = 0, 0\n",
        "    with torch.no_grad():\n",
        "        for X, y in dataloader:\n",
        "            X, y = X.to(device), y.to(device)\n",
        "            pred = model(X)\n",
        "            test_loss += loss_fn(pred, y).item()\n",
        "            correct += (pred.argmax(1) == y).type(torch.float).sum().item()\n",
        "    test_loss /= num_batches\n",
        "    correct /= size\n",
        "    if dataloader.dataset.train == True: print(f\"Train Error: \\nAccuracy: {(100*correct):>0.1f}%, Avg loss: {test_loss:>8f} \\n\")\n",
        "    else: print(f\"Test Error: \\nAccuracy: {(100*correct):>0.1f}%, Avg loss: {test_loss:>8f} \\n\")\n",
        "    return 100*correct"
      ],
      "metadata": {
        "cellView": "form",
        "id": "zLt3w2S1kSL2"
      },
      "execution_count": 4,
      "outputs": []
    },
    {
      "cell_type": "code",
      "source": [
        "#@title Step 3: Load the MNIST dataset\n",
        "\n",
        "training_data = datasets.MNIST(\n",
        "    root=\"data\",\n",
        "    train=True,\n",
        "    download=True,\n",
        "    transform=ToTensor()\n",
        ")\n",
        "\n",
        "test_data = datasets.MNIST(\n",
        "    root=\"data\",\n",
        "    train=False,\n",
        "    download=True,\n",
        "    transform=ToTensor()\n",
        ")\n",
        "\n",
        "# Create data loaders.\n",
        "batch_size = 64    #@param {type:\"integer\"}\n",
        "train_dataloader = DataLoader(training_data, batch_size=batch_size)\n",
        "test_dataloader = DataLoader(test_data, batch_size=batch_size)"
      ],
      "metadata": {
        "cellView": "form",
        "id": "klh1uIdWkUMc"
      },
      "execution_count": null,
      "outputs": []
    },
    {
      "cell_type": "code",
      "source": [
        "#@title Testing block: Print shapes of the input image and the output label\n",
        "\n",
        "# Note that this channel order in torch is slightly different from slides.\n",
        "\n",
        "for input_image, _ in test_dataloader:\n",
        "    print(f\"Shape of input image: [Number of images in a batch, No. of channel, Height, Width]: {input_image.shape}\")\n",
        "    break"
      ],
      "metadata": {
        "cellView": "form",
        "id": "5pE6zwRekZk3"
      },
      "execution_count": null,
      "outputs": []
    },
    {
      "cell_type": "code",
      "source": [
        " #@title Testing block: Visualize the training n samples\n",
        "n = 10\n",
        "plt.figure(figsize=(40, n))\n",
        "for input_image, ground_truth_label in test_dataloader:\n",
        "  for i in range(n):\n",
        "      plt.subplot(int(n/5), 5, i + 1)\n",
        "      plt.imshow(input_image[i, 0, ...], cmap='gray')\n",
        "      label_i = int(ground_truth_label[i])\n",
        "      plt.title(f'Number {label_i}', fontsize=18)\n",
        "  break"
      ],
      "metadata": {
        "cellView": "form",
        "id": "wWXfoAu2kaNb"
      },
      "execution_count": null,
      "outputs": []
    },
    {
      "cell_type": "code",
      "source": [
        "#@title Task 1: Start"
      ],
      "metadata": {
        "id": "FfE9rS5lQRyr"
      },
      "execution_count": null,
      "outputs": []
    },
    {
      "cell_type": "code",
      "source": [
        "#@title Step 1: Setup a training device and define loss function.\n",
        "device = torch.device(\"cuda\" if torch.cuda.is_available() else \"cpu\")"
      ],
      "metadata": {
        "id": "3fouMcNDkeUi"
      },
      "execution_count": 46,
      "outputs": []
    },
    {
      "cell_type": "code",
      "source": [
        "#@title Step 2: Define the network.\n",
        "\n",
        "class NeuralNetwork_ANN(nn.Module):\n",
        "    def __init__(self):\n",
        "        super().__init__()\n",
        "        #################################################################\n",
        "        # Your code goes here.\n",
        "        #################################################################\n",
        "        self.network = nn.Sequential(\n",
        "            nn.Flatten(),             # This flatten image, which converts 28x28 image to 756 vector\n",
        "            nn.Linear(28*28, 128),    # nn.Linear(a, b) means the input is a channels and the output is b chnnals\n",
        "            nn.ReLU(),\n",
        "            nn.Linear(128, 128),      # Similarly, this is 128-channel input and 128-channel output.\n",
        "            nn.ReLU(),\n",
        "            nn.Linear(128, 10),       # Since the output is 10-class, so the output must be 10 channels.\n",
        "            # nn.ReLU(),\n",
        "        )\n",
        "\n",
        "    def forward(self, x):\n",
        "        return self.network(x)\n",
        "\n",
        "class NeuralNetwork_CNN(nn.Module):\n",
        "    def __init__(self, lrate = 1e-1, epochs = 10, loss_fn_choice = None, optimizer_choice = None):\n",
        "        super().__init__()\n",
        "\n",
        "        self.network = nn.Sequential(\n",
        "            nn.Conv2d(in_channels=1, out_channels=32, kernel_size=3, padding=1),\n",
        "                                                 # A convolutional network\n",
        "                                                 # After this layer, the image is 28x28 with 32 channels\n",
        "            nn.ReLU(),\n",
        "            nn.MaxPool2d(2, 2),                  # nn.MaxPool2d(2, 2) is a 2x2 pooling layer\n",
        "                                                 # After this layer, the image is 14x14 with 32 channels\n",
        "            nn.Conv2d(in_channels=32, out_channels=32, kernel_size=3, padding=1),\n",
        "                                                 # After this layer, the image is still 14x14 with 32 channels\n",
        "            nn.ReLU(),\n",
        "            nn.MaxPool2d(2, 2),                  # After this layer, the image is ?x? with 32 channels\n",
        "            nn.Flatten(),\n",
        "            nn.Linear(7*7*32, 10)\n",
        "        )\n",
        "        self.lrate = lrate\n",
        "        self.epochs = epochs\n",
        "        if loss_fn_choice == None: self.loss_fn = nn.CrossEntropyLoss()\n",
        "        else: self.loss_fn = loss_fn_choice\n",
        "        if optimizer_choice == None:self.optimizer = torch.optim.SGD(self.parameters(), self.lrate)\n",
        "        else: self.optimizer = optimizer_choice\n",
        "\n",
        "    def forward(self, x):\n",
        "        return self.network(x)"
      ],
      "metadata": {
        "id": "Idmdm1fSkfzV"
      },
      "execution_count": 51,
      "outputs": []
    },
    {
      "cell_type": "code",
      "source": [
        "#@title Step 3: Run the CNN-based network training job with 10 epochs.\n",
        "\n",
        "# Define and train models.\n",
        "model_1 = NeuralNetwork_CNN().to(device)\n",
        "accuracy_records_train = []\n",
        "accuracy_records_test = []  # 2D array to store accuracy and epoch\n",
        "for t in range(model_1.epochs):\n",
        "    print(f\"Epoch {t+1}\\n-------------------------------\")\n",
        "    train(train_dataloader, model_1, model_1.loss_fn, model_1.optimizer)\n",
        "\n",
        "    accuracy_train = error_performance(train_dataloader, model_1, model_1.loss_fn)\n",
        "    accuracy_test = error_performance(test_dataloader, model_1, model_1.loss_fn)\n",
        "    accuracy_records_train.append([accuracy_train, t+1])\n",
        "    accuracy_records_test.append([accuracy_test, t+1])\n",
        "print(\"Done!\")"
      ],
      "metadata": {
        "colab": {
          "base_uri": "https://localhost:8080/"
        },
        "id": "263G1PuTkluM",
        "outputId": "6b8bef55-3727-425d-b9a8-de001ccd9cfe"
      },
      "execution_count": 52,
      "outputs": [
        {
          "output_type": "stream",
          "name": "stdout",
          "text": [
            "Epoch 1\n",
            "-------------------------------\n",
            "loss: 2.309603  [   64/60000]\n",
            "loss: 0.348440  [ 6464/60000]\n",
            "loss: 0.153113  [12864/60000]\n",
            "loss: 0.293579  [19264/60000]\n",
            "loss: 0.040694  [25664/60000]\n",
            "loss: 0.138438  [32064/60000]\n",
            "loss: 0.096681  [38464/60000]\n",
            "loss: 0.142488  [44864/60000]\n",
            "loss: 0.230054  [51264/60000]\n",
            "loss: 0.227447  [57664/60000]\n",
            "Train Error: \n",
            "Accuracy: 96.7%, Avg loss: 0.108296 \n",
            "\n",
            "Test Error: \n",
            "Accuracy: 96.9%, Avg loss: 0.100269 \n",
            "\n",
            "Epoch 2\n",
            "-------------------------------\n",
            "loss: 0.111573  [   64/60000]\n",
            "loss: 0.125895  [ 6464/60000]\n",
            "loss: 0.078883  [12864/60000]\n",
            "loss: 0.155785  [19264/60000]\n",
            "loss: 0.021059  [25664/60000]\n",
            "loss: 0.087073  [32064/60000]\n",
            "loss: 0.102744  [38464/60000]\n",
            "loss: 0.105073  [44864/60000]\n",
            "loss: 0.216505  [51264/60000]\n",
            "loss: 0.136392  [57664/60000]\n",
            "Train Error: \n",
            "Accuracy: 97.9%, Avg loss: 0.064420 \n",
            "\n",
            "Test Error: \n",
            "Accuracy: 97.9%, Avg loss: 0.062384 \n",
            "\n",
            "Epoch 3\n",
            "-------------------------------\n",
            "loss: 0.061009  [   64/60000]\n",
            "loss: 0.137242  [ 6464/60000]\n",
            "loss: 0.065837  [12864/60000]\n",
            "loss: 0.089739  [19264/60000]\n",
            "loss: 0.015100  [25664/60000]\n",
            "loss: 0.065694  [32064/60000]\n",
            "loss: 0.113418  [38464/60000]\n",
            "loss: 0.088018  [44864/60000]\n",
            "loss: 0.187726  [51264/60000]\n",
            "loss: 0.087101  [57664/60000]\n",
            "Train Error: \n",
            "Accuracy: 98.4%, Avg loss: 0.051383 \n",
            "\n",
            "Test Error: \n",
            "Accuracy: 98.3%, Avg loss: 0.052948 \n",
            "\n",
            "Epoch 4\n",
            "-------------------------------\n",
            "loss: 0.045906  [   64/60000]\n",
            "loss: 0.132766  [ 6464/60000]\n",
            "loss: 0.060547  [12864/60000]\n",
            "loss: 0.062421  [19264/60000]\n",
            "loss: 0.010687  [25664/60000]\n",
            "loss: 0.057210  [32064/60000]\n",
            "loss: 0.116468  [38464/60000]\n",
            "loss: 0.073949  [44864/60000]\n",
            "loss: 0.176132  [51264/60000]\n",
            "loss: 0.061416  [57664/60000]\n",
            "Train Error: \n",
            "Accuracy: 98.5%, Avg loss: 0.045406 \n",
            "\n",
            "Test Error: \n",
            "Accuracy: 98.3%, Avg loss: 0.049544 \n",
            "\n",
            "Epoch 5\n",
            "-------------------------------\n",
            "loss: 0.037262  [   64/60000]\n",
            "loss: 0.127831  [ 6464/60000]\n",
            "loss: 0.048105  [12864/60000]\n",
            "loss: 0.046919  [19264/60000]\n",
            "loss: 0.008584  [25664/60000]\n",
            "loss: 0.051162  [32064/60000]\n",
            "loss: 0.120086  [38464/60000]\n",
            "loss: 0.059110  [44864/60000]\n",
            "loss: 0.170021  [51264/60000]\n",
            "loss: 0.045892  [57664/60000]\n",
            "Train Error: \n",
            "Accuracy: 98.7%, Avg loss: 0.041553 \n",
            "\n",
            "Test Error: \n",
            "Accuracy: 98.4%, Avg loss: 0.047810 \n",
            "\n",
            "Epoch 6\n",
            "-------------------------------\n",
            "loss: 0.030395  [   64/60000]\n",
            "loss: 0.123246  [ 6464/60000]\n",
            "loss: 0.039129  [12864/60000]\n",
            "loss: 0.039077  [19264/60000]\n",
            "loss: 0.006497  [25664/60000]\n",
            "loss: 0.046404  [32064/60000]\n",
            "loss: 0.119640  [38464/60000]\n",
            "loss: 0.047474  [44864/60000]\n",
            "loss: 0.165961  [51264/60000]\n",
            "loss: 0.037498  [57664/60000]\n",
            "Train Error: \n",
            "Accuracy: 98.8%, Avg loss: 0.038305 \n",
            "\n",
            "Test Error: \n",
            "Accuracy: 98.5%, Avg loss: 0.046486 \n",
            "\n",
            "Epoch 7\n",
            "-------------------------------\n",
            "loss: 0.024472  [   64/60000]\n",
            "loss: 0.113147  [ 6464/60000]\n",
            "loss: 0.031268  [12864/60000]\n",
            "loss: 0.032949  [19264/60000]\n",
            "loss: 0.005381  [25664/60000]\n",
            "loss: 0.040704  [32064/60000]\n",
            "loss: 0.115974  [38464/60000]\n",
            "loss: 0.040455  [44864/60000]\n",
            "loss: 0.162638  [51264/60000]\n",
            "loss: 0.032953  [57664/60000]\n",
            "Train Error: \n",
            "Accuracy: 98.9%, Avg loss: 0.033845 \n",
            "\n",
            "Test Error: \n",
            "Accuracy: 98.6%, Avg loss: 0.043482 \n",
            "\n",
            "Epoch 8\n",
            "-------------------------------\n",
            "loss: 0.019965  [   64/60000]\n",
            "loss: 0.103311  [ 6464/60000]\n",
            "loss: 0.026009  [12864/60000]\n",
            "loss: 0.030615  [19264/60000]\n",
            "loss: 0.005021  [25664/60000]\n",
            "loss: 0.038610  [32064/60000]\n",
            "loss: 0.111248  [38464/60000]\n",
            "loss: 0.034835  [44864/60000]\n",
            "loss: 0.156602  [51264/60000]\n",
            "loss: 0.029372  [57664/60000]\n",
            "Train Error: \n",
            "Accuracy: 99.0%, Avg loss: 0.029778 \n",
            "\n",
            "Test Error: \n",
            "Accuracy: 98.7%, Avg loss: 0.040882 \n",
            "\n",
            "Epoch 9\n",
            "-------------------------------\n",
            "loss: 0.017028  [   64/60000]\n",
            "loss: 0.096387  [ 6464/60000]\n",
            "loss: 0.022998  [12864/60000]\n",
            "loss: 0.028761  [19264/60000]\n",
            "loss: 0.004494  [25664/60000]\n",
            "loss: 0.034030  [32064/60000]\n",
            "loss: 0.105651  [38464/60000]\n",
            "loss: 0.030029  [44864/60000]\n",
            "loss: 0.150506  [51264/60000]\n",
            "loss: 0.026055  [57664/60000]\n",
            "Train Error: \n",
            "Accuracy: 99.1%, Avg loss: 0.027565 \n",
            "\n",
            "Test Error: \n",
            "Accuracy: 98.6%, Avg loss: 0.040250 \n",
            "\n",
            "Epoch 10\n",
            "-------------------------------\n",
            "loss: 0.017030  [   64/60000]\n",
            "loss: 0.088942  [ 6464/60000]\n",
            "loss: 0.019077  [12864/60000]\n",
            "loss: 0.025799  [19264/60000]\n",
            "loss: 0.004179  [25664/60000]\n",
            "loss: 0.027997  [32064/60000]\n",
            "loss: 0.100221  [38464/60000]\n",
            "loss: 0.024208  [44864/60000]\n",
            "loss: 0.142827  [51264/60000]\n",
            "loss: 0.022875  [57664/60000]\n",
            "Train Error: \n",
            "Accuracy: 99.2%, Avg loss: 0.026010 \n",
            "\n",
            "Test Error: \n",
            "Accuracy: 98.6%, Avg loss: 0.040020 \n",
            "\n",
            "Done!\n"
          ]
        }
      ]
    },
    {
      "cell_type": "code",
      "source": [
        "#@title Step 4: Plot the epoch(x-axis)-accuracy(y-axis) curve\n",
        "def temp_plot_function_1(*arrays, legend = None):\n",
        "    for data in arrays:\n",
        "        x = [row[1] for row in data]\n",
        "        y = [row[0] for row in data]\n",
        "\n",
        "        plt.plot(x, y)\n",
        "\n",
        "    plt.xlabel('Epoch number')\n",
        "    plt.ylabel('Accuracy rate')\n",
        "    plt.title('Plot of epoch number against testing/training accuracy.')\n",
        "    plt.legend(legend)\n",
        "    plt.xticks(x)\n",
        "    plt.show()\n",
        "\n",
        "temp_plot_function_1(accuracy_records_train, accuracy_records_test, legend = ['Training accuracy', 'Testing accuracy'])"
      ],
      "metadata": {
        "colab": {
          "base_uri": "https://localhost:8080/",
          "height": 472
        },
        "id": "C_IN1yqWkoVk",
        "outputId": "3b587853-b28e-454b-a183-351d6938668b"
      },
      "execution_count": 53,
      "outputs": [
        {
          "output_type": "display_data",
          "data": {
            "text/plain": [
              "<Figure size 640x480 with 1 Axes>"
            ],
            "image/png": "[encoded data removed]"
          },
          "metadata": {}
        }
      ]
    },
    {
      "cell_type": "code",
      "source": [
        "#@title Step 5: For both CNN-based networks, try different batch size.\n",
        "import time\n",
        "model_3 = NeuralNetwork_CNN(epochs = 3).to(device)\n",
        "accuracy_records_train = []\n",
        "accuracy_records_test = []\n",
        "batchsize_accuracy_records_train = []\n",
        "batchsize_accuracy_records_test = []\n",
        "batch_size_array = [64 * i for i in range(1,11)]\n",
        "elapsed_times = []  # List to store elapsed times\n",
        "for i in batch_size_array:\n",
        "    start_time = time.time()\n",
        "    batch_size = i\n",
        "    for t in range(model_3.epochs):\n",
        "        print(f\"Epoch {t+1}\\n-------------------------------\")\n",
        "        train(train_dataloader, model_3, model_3.loss_fn, model_3.optimizer)\n",
        "    end_time = time.time()\n",
        "    elapsed_time = end_time - start_time\n",
        "    elapsed_times.append([elapsed_time, i])\n",
        "    accuracy_train = error_performance(train_dataloader, model_3, model_3.loss_fn)\n",
        "    accuracy_test = error_performance(test_dataloader, model_3, model_3.loss_fn)\n",
        "    batchsize_accuracy_records_train.append([accuracy_train, i])\n",
        "    batchsize_accuracy_records_test.append([accuracy_test, i])\n",
        "print(\"Done!\")"
      ],
      "metadata": {
        "colab": {
          "base_uri": "https://localhost:8080/"
        },
        "id": "xknZ461r83iB",
        "outputId": "c2670eda-7999-4e1a-9299-2747d4b1bd85"
      },
      "execution_count": null,
      "outputs": [
        {
          "output_type": "stream",
          "name": "stdout",
          "text": [
            "Epoch 1\n",
            "-------------------------------\n",
            "loss: 2.310684  [   64/60000]\n",
            "loss: 0.362473  [ 6464/60000]\n",
            "loss: 0.177815  [12864/60000]\n"
          ]
        }
      ]
    },
    {
      "cell_type": "code",
      "source": [
        "#@title Step 6: Plot of batchSize-accuracy curve.\n",
        "def temp_plot_function_2(*arrays, legend = None):\n",
        "    for data in arrays:\n",
        "        x = [row[1] for row in data]\n",
        "        y = [row[0] for row in data]\n",
        "\n",
        "        plt.plot(x, y)\n",
        "\n",
        "    plt.xlabel('Batch number')\n",
        "    plt.ylabel('Accuracy rate')\n",
        "    plt.title('Plot of testing/training accuracy against batch number (Assuming using 3 epochs only).')\n",
        "    plt.legend(legend)\n",
        "    plt.xticks(x)\n",
        "    plt.show()\n",
        "temp_plot_function_2(batchsize_accuracy_records_train, batchsize_accuracy_records_test, legend = ['Training accuracy', 'Testing accuracy'])"
      ],
      "metadata": {
        "id": "FRLOnXWp-VVq"
      },
      "execution_count": null,
      "outputs": []
    },
    {
      "cell_type": "code",
      "source": [
        "#@title Step 7: Plot of batchSize-runtime curve.\n",
        "def temp_plot_function_3(*arrays, legend = None):\n",
        "    for data in arrays:\n",
        "        x = [row[1] for row in data]\n",
        "        y = [row[0] for row in data]\n",
        "\n",
        "        plt.plot(x, y)\n",
        "\n",
        "    plt.xlabel('Batch number')\n",
        "    plt.ylabel('Runtime(seconds)')\n",
        "    plt.title('Plot of runtime(seconds) against batch number (Assuming using 3 epochs only).')\n",
        "    plt.legend(legend)\n",
        "    plt.xticks(x)\n",
        "    plt.show()\n",
        "\n",
        "temp_plot_function_1(elapsed_times, legend = ['Runtime(seconds) per batch number'])"
      ],
      "metadata": {
        "id": "epG44MOZI2qk"
      },
      "execution_count": null,
      "outputs": []
    },
    {
      "cell_type": "code",
      "source": [],
      "metadata": {
        "id": "oZVVuSLmJLGq"
      },
      "execution_count": null,
      "outputs": []
    }
  ]
}